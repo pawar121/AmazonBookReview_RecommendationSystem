{
 "cells": [
  {
   "cell_type": "code",
   "execution_count": 24,
   "metadata": {
    "collapsed": false
   },
   "outputs": [],
   "source": [
    "import pandas as pd \n",
    "import numpy as np\n",
    "import matplotlib.pyplot as plt\n",
    "%matplotlib inline\n",
    "import unicodedata\n",
    "import sys\n",
    "from sklearn.feature_extraction.text import TfidfVectorizer\n",
    "from sklearn.cluster import KMeans\n",
    "from sklearn import metrics"
   ]
  },
  {
   "cell_type": "code",
   "execution_count": 3,
   "metadata": {
    "collapsed": false
   },
   "outputs": [
    {
     "name": "stderr",
     "output_type": "stream",
     "text": [
      "/usr/local/src/conda3_runtime/4.1.1/lib/python3.5/site-packages/IPython/core/interactiveshell.py:2723: DtypeWarning: Columns (1) have mixed types. Specify dtype option on import or set low_memory=False.\n",
      "  interactivity=interactivity, compiler=compiler, result=result)\n"
     ]
    },
    {
     "data": {
      "text/html": [
       "<div>\n",
       "<table border=\"1\" class=\"dataframe\">\n",
       "  <thead>\n",
       "    <tr style=\"text-align: right;\">\n",
       "      <th></th>\n",
       "      <th>Unnamed: 0</th>\n",
       "      <th>ASIN</th>\n",
       "      <th>ReviewerID</th>\n",
       "      <th>HelpfulNumerator</th>\n",
       "      <th>HelpfulDenomerator</th>\n",
       "      <th>Review_Text</th>\n",
       "      <th>Review_Summary</th>\n",
       "      <th>ReviewerName</th>\n",
       "      <th>Date</th>\n",
       "      <th>Ratings</th>\n",
       "      <th>Title</th>\n",
       "      <th>Genre</th>\n",
       "      <th>Genre1</th>\n",
       "      <th>Author</th>\n",
       "    </tr>\n",
       "  </thead>\n",
       "  <tbody>\n",
       "    <tr>\n",
       "      <th>0</th>\n",
       "      <td>1</td>\n",
       "      <td>000100039X</td>\n",
       "      <td>A10000012B7CGYKOMPQ4L</td>\n",
       "      <td>0</td>\n",
       "      <td>0</td>\n",
       "      <td>Spiritually and mentally inspiring! A book tha...</td>\n",
       "      <td>Wonderful!\\t</td>\n",
       "      <td>Adam</td>\n",
       "      <td>12-16--2012</td>\n",
       "      <td>5.0</td>\n",
       "      <td>The Prophet</td>\n",
       "      <td>Inspirational &amp; Religious</td>\n",
       "      <td>Poetry</td>\n",
       "      <td>Kahlil Gibran</td>\n",
       "    </tr>\n",
       "    <tr>\n",
       "      <th>1</th>\n",
       "      <td>2</td>\n",
       "      <td>000100039X</td>\n",
       "      <td>A11TYILTAFKPR3</td>\n",
       "      <td>4</td>\n",
       "      <td>4</td>\n",
       "      <td>When Gibran was first introduced to me  I had ...</td>\n",
       "      <td>A beautiful work\\t</td>\n",
       "      <td>Erin Clark</td>\n",
       "      <td>01-3--2001</td>\n",
       "      <td>5.0</td>\n",
       "      <td>The Prophet</td>\n",
       "      <td>Inspirational &amp; Religious</td>\n",
       "      <td>Poetry</td>\n",
       "      <td>Kahlil Gibran</td>\n",
       "    </tr>\n",
       "    <tr>\n",
       "      <th>2</th>\n",
       "      <td>3</td>\n",
       "      <td>000100039X</td>\n",
       "      <td>A12387207U8U24</td>\n",
       "      <td>0</td>\n",
       "      <td>0</td>\n",
       "      <td>As you read  Gibran's poetry brings spiritual ...</td>\n",
       "      <td>Graet Work\\t</td>\n",
       "      <td>Alex</td>\n",
       "      <td>03-28--2008</td>\n",
       "      <td>5.0</td>\n",
       "      <td>The Prophet</td>\n",
       "      <td>Inspirational &amp; Religious</td>\n",
       "      <td>Poetry</td>\n",
       "      <td>Kahlil Gibran</td>\n",
       "    </tr>\n",
       "    <tr>\n",
       "      <th>3</th>\n",
       "      <td>4</td>\n",
       "      <td>000100039X</td>\n",
       "      <td>A12W8NRSYR593I</td>\n",
       "      <td>0</td>\n",
       "      <td>0</td>\n",
       "      <td>Jubran Kahlil Jubran had a teacher make a mist...</td>\n",
       "      <td>Classic that enjoyed reemergence in the '60's....</td>\n",
       "      <td>DR Fredrickson \"\"\"\"David R Fredrickson\"\"\"\"</td>\n",
       "      <td>01-26--2013</td>\n",
       "      <td>5.0</td>\n",
       "      <td>The Prophet</td>\n",
       "      <td>Inspirational &amp; Religious</td>\n",
       "      <td>Poetry</td>\n",
       "      <td>Kahlil Gibran</td>\n",
       "    </tr>\n",
       "    <tr>\n",
       "      <th>4</th>\n",
       "      <td>5</td>\n",
       "      <td>000100039X</td>\n",
       "      <td>A133S8CUIVRFKN</td>\n",
       "      <td>0</td>\n",
       "      <td>0</td>\n",
       "      <td>When I first started writing poetry at age 12 ...</td>\n",
       "      <td>The Prophet and then SOME!!!\\t</td>\n",
       "      <td>Chase von</td>\n",
       "      <td>03-29--2008</td>\n",
       "      <td>5.0</td>\n",
       "      <td>The Prophet</td>\n",
       "      <td>Inspirational &amp; Religious</td>\n",
       "      <td>Poetry</td>\n",
       "      <td>Kahlil Gibran</td>\n",
       "    </tr>\n",
       "  </tbody>\n",
       "</table>\n",
       "</div>"
      ],
      "text/plain": [
       "   Unnamed: 0        ASIN             ReviewerID  HelpfulNumerator  \\\n",
       "0           1  000100039X  A10000012B7CGYKOMPQ4L                 0   \n",
       "1           2  000100039X         A11TYILTAFKPR3                 4   \n",
       "2           3  000100039X         A12387207U8U24                 0   \n",
       "3           4  000100039X         A12W8NRSYR593I                 0   \n",
       "4           5  000100039X         A133S8CUIVRFKN                 0   \n",
       "\n",
       "   HelpfulDenomerator                                        Review_Text  \\\n",
       "0                   0  Spiritually and mentally inspiring! A book tha...   \n",
       "1                   4  When Gibran was first introduced to me  I had ...   \n",
       "2                   0  As you read  Gibran's poetry brings spiritual ...   \n",
       "3                   0  Jubran Kahlil Jubran had a teacher make a mist...   \n",
       "4                   0  When I first started writing poetry at age 12 ...   \n",
       "\n",
       "                                      Review_Summary  \\\n",
       "0                                      Wonderful!\\t    \n",
       "1                                A beautiful work\\t    \n",
       "2                                      Graet Work\\t    \n",
       "3  Classic that enjoyed reemergence in the '60's....   \n",
       "4                    The Prophet and then SOME!!!\\t    \n",
       "\n",
       "                                 ReviewerName         Date  Ratings  \\\n",
       "0                                        Adam  12-16--2012      5.0   \n",
       "1                                  Erin Clark   01-3--2001      5.0   \n",
       "2                                        Alex  03-28--2008      5.0   \n",
       "3  DR Fredrickson \"\"\"\"David R Fredrickson\"\"\"\"  01-26--2013      5.0   \n",
       "4                                   Chase von  03-29--2008      5.0   \n",
       "\n",
       "         Title                      Genre  Genre1         Author  \n",
       "0  The Prophet  Inspirational & Religious  Poetry  Kahlil Gibran  \n",
       "1  The Prophet  Inspirational & Religious  Poetry  Kahlil Gibran  \n",
       "2  The Prophet  Inspirational & Religious  Poetry  Kahlil Gibran  \n",
       "3  The Prophet  Inspirational & Religious  Poetry  Kahlil Gibran  \n",
       "4  The Prophet  Inspirational & Religious  Poetry  Kahlil Gibran  "
      ]
     },
     "execution_count": 3,
     "metadata": {},
     "output_type": "execute_result"
    }
   ],
   "source": [
    "from io import StringIO\n",
    "import requests\n",
    "import json\n",
    "import pandas as pd\n",
    "\n",
    "# @hidden_cell\n",
    "# This function accesses a file in your Object Storage. The definition contains your credentials.\n",
    "# You might want to remove those credentials before you share your notebook.\n",
    "def get_object_storage_file_with_credentials_49013d1f7eed469aa9292258fdeec309(container, filename):\n",
    "    \"\"\"This functions returns a StringIO object containing\n",
    "    the file content from Bluemix Object Storage.\"\"\"\n",
    "\n",
    "    url1 = ''.join(['https://identity.open.softlayer.com', '/v3/auth/tokens'])\n",
    "    data = {'auth': {'identity': {'methods': ['password'],\n",
    "            'password': {'user': {'name': 'member_0535f2960f72ec9596c9cb8cba5514e3bab87845','domain': {'id': '389b11290ea74fb3af0c4e70414ec211'},\n",
    "            'password': 'EM^n-q4&z&z[V7kZ'}}}}}\n",
    "    headers1 = {'Content-Type': 'application/json'}\n",
    "    resp1 = requests.post(url=url1, data=json.dumps(data), headers=headers1)\n",
    "    resp1_body = resp1.json()\n",
    "    for e1 in resp1_body['token']['catalog']:\n",
    "        if(e1['type']=='object-store'):\n",
    "            for e2 in e1['endpoints']:\n",
    "                        if(e2['interface']=='public'and e2['region']=='dallas'):\n",
    "                            url2 = ''.join([e2['url'],'/', container, '/', filename])\n",
    "    s_subject_token = resp1.headers['x-subject-token']\n",
    "    headers2 = {'X-Auth-Token': s_subject_token, 'accept': 'application/json'}\n",
    "    resp2 = requests.get(url=url2, headers=headers2)\n",
    "    return StringIO(resp2.text)\n",
    "\n",
    "data = pd.read_csv(get_object_storage_file_with_credentials_49013d1f7eed469aa9292258fdeec309('KmeansAmazon', 'LatestData.csv'))\n",
    "data.head()"
   ]
  },
  {
   "cell_type": "code",
   "execution_count": 5,
   "metadata": {
    "collapsed": false
   },
   "outputs": [
    {
     "data": {
      "text/html": [
       "<div>\n",
       "<table border=\"1\" class=\"dataframe\">\n",
       "  <thead>\n",
       "    <tr style=\"text-align: right;\">\n",
       "      <th></th>\n",
       "      <th>HelpfulNumerator</th>\n",
       "      <th>HelpfulDenomerator</th>\n",
       "      <th>Review_Text</th>\n",
       "      <th>Ratings</th>\n",
       "    </tr>\n",
       "  </thead>\n",
       "  <tbody>\n",
       "    <tr>\n",
       "      <th>0</th>\n",
       "      <td>0</td>\n",
       "      <td>0</td>\n",
       "      <td>Spiritually and mentally inspiring! A book tha...</td>\n",
       "      <td>5.0</td>\n",
       "    </tr>\n",
       "    <tr>\n",
       "      <th>1</th>\n",
       "      <td>4</td>\n",
       "      <td>4</td>\n",
       "      <td>When Gibran was first introduced to me  I had ...</td>\n",
       "      <td>5.0</td>\n",
       "    </tr>\n",
       "    <tr>\n",
       "      <th>2</th>\n",
       "      <td>0</td>\n",
       "      <td>0</td>\n",
       "      <td>As you read  Gibran's poetry brings spiritual ...</td>\n",
       "      <td>5.0</td>\n",
       "    </tr>\n",
       "    <tr>\n",
       "      <th>3</th>\n",
       "      <td>0</td>\n",
       "      <td>0</td>\n",
       "      <td>Jubran Kahlil Jubran had a teacher make a mist...</td>\n",
       "      <td>5.0</td>\n",
       "    </tr>\n",
       "    <tr>\n",
       "      <th>4</th>\n",
       "      <td>0</td>\n",
       "      <td>0</td>\n",
       "      <td>When I first started writing poetry at age 12 ...</td>\n",
       "      <td>5.0</td>\n",
       "    </tr>\n",
       "  </tbody>\n",
       "</table>\n",
       "</div>"
      ],
      "text/plain": [
       "   HelpfulNumerator  HelpfulDenomerator  \\\n",
       "0                 0                   0   \n",
       "1                 4                   4   \n",
       "2                 0                   0   \n",
       "3                 0                   0   \n",
       "4                 0                   0   \n",
       "\n",
       "                                         Review_Text  Ratings  \n",
       "0  Spiritually and mentally inspiring! A book tha...      5.0  \n",
       "1  When Gibran was first introduced to me  I had ...      5.0  \n",
       "2  As you read  Gibran's poetry brings spiritual ...      5.0  \n",
       "3  Jubran Kahlil Jubran had a teacher make a mist...      5.0  \n",
       "4  When I first started writing poetry at age 12 ...      5.0  "
      ]
     },
     "execution_count": 5,
     "metadata": {},
     "output_type": "execute_result"
    }
   ],
   "source": [
    "#Extracting only useful columns\n",
    "df1 = data.iloc[:, [3,4,5,9]]\n",
    "df1.head()"
   ]
  },
  {
   "cell_type": "code",
   "execution_count": 6,
   "metadata": {
    "collapsed": false
   },
   "outputs": [
    {
     "name": "stderr",
     "output_type": "stream",
     "text": [
      "/usr/local/src/conda3_runtime/4.1.1/lib/python3.5/site-packages/pandas/core/indexing.py:465: SettingWithCopyWarning: \n",
      "A value is trying to be set on a copy of a slice from a DataFrame.\n",
      "Try using .loc[row_indexer,col_indexer] = value instead\n",
      "\n",
      "See the caveats in the documentation: http://pandas.pydata.org/pandas-docs/stable/indexing.html#indexing-view-versus-copy\n",
      "  self.obj[item] = s\n"
     ]
    },
    {
     "data": {
      "text/plain": [
       "0         5.0\n",
       "1         5.0\n",
       "2         5.0\n",
       "3         5.0\n",
       "4         5.0\n",
       "5         5.0\n",
       "6         5.0\n",
       "7         5.0\n",
       "8         5.0\n",
       "9         1.0\n",
       "10        5.0\n",
       "11        5.0\n",
       "12        5.0\n",
       "13        4.0\n",
       "14        5.0\n",
       "15        5.0\n",
       "16        5.0\n",
       "17        5.0\n",
       "18        4.0\n",
       "19        5.0\n",
       "20        5.0\n",
       "21        5.0\n",
       "22        5.0\n",
       "23        5.0\n",
       "24        5.0\n",
       "25        5.0\n",
       "26        5.0\n",
       "27        5.0\n",
       "28        2.0\n",
       "29        5.0\n",
       "         ... \n",
       "647885    2.0\n",
       "647886    5.0\n",
       "647887    2.0\n",
       "647888    5.0\n",
       "647889    5.0\n",
       "647890    5.0\n",
       "647891    5.0\n",
       "647892    5.0\n",
       "647893    5.0\n",
       "647894    1.0\n",
       "647895    5.0\n",
       "647896    3.0\n",
       "647897    5.0\n",
       "647898    3.0\n",
       "647899    2.0\n",
       "647900    4.0\n",
       "647901    4.0\n",
       "647902    4.0\n",
       "647903    5.0\n",
       "647904    5.0\n",
       "647905    5.0\n",
       "647906    5.0\n",
       "647907    5.0\n",
       "647908    5.0\n",
       "647909    5.0\n",
       "647910    3.0\n",
       "647911    1.0\n",
       "647912    5.0\n",
       "647913    5.0\n",
       "647914    5.0\n",
       "Name: Ratings, dtype: float64"
      ]
     },
     "execution_count": 6,
     "metadata": {},
     "output_type": "execute_result"
    }
   ],
   "source": [
    "#change data type of non-Text features from string to integer\n",
    "df1.iloc[:, 1:2] = df1.iloc[:, 1:2].apply(pd.to_numeric)\n",
    "pd.to_numeric(df1['Ratings'], errors='coerce')"
   ]
  },
  {
   "cell_type": "code",
   "execution_count": 7,
   "metadata": {
    "collapsed": true
   },
   "outputs": [],
   "source": [
    "#include reviews that have more than 15 helpfulness data point only\n",
    "df1 = df1[(df1.HelpfulDenomerator > 15)]"
   ]
  },
  {
   "cell_type": "code",
   "execution_count": 8,
   "metadata": {
    "collapsed": false
   },
   "outputs": [
    {
     "data": {
      "text/plain": [
       "(46907,)"
      ]
     },
     "execution_count": 8,
     "metadata": {},
     "output_type": "execute_result"
    }
   ],
   "source": [
    "df1['Ratings'].shape"
   ]
  },
  {
   "cell_type": "code",
   "execution_count": 27,
   "metadata": {
    "collapsed": false,
    "scrolled": true
   },
   "outputs": [
    {
     "data": {
      "text/plain": [
       "HelpfulNumerator      0\n",
       "HelpfulDenomerator    0\n",
       "Review_Text           0\n",
       "Ratings               0\n",
       "dtype: int64"
      ]
     },
     "execution_count": 27,
     "metadata": {},
     "output_type": "execute_result"
    }
   ],
   "source": [
    "df1.isnull().sum()"
   ]
  },
  {
   "cell_type": "code",
   "execution_count": 28,
   "metadata": {
    "collapsed": false
   },
   "outputs": [
    {
     "data": {
      "text/plain": [
       "9      this man was a son of a pastor  but worshipped...\n",
       "35     this is one of the first (literary) books i re...\n",
       "40     certainly the words are of kahlil gibran  but ...\n",
       "42     this book was given to me as a gift before i j...\n",
       "49     gibran gets right down to the bedrock of what ...\n",
       "59     the prophet is almustafa  called \"\"the chosen ...\n",
       "61     i am alive like you  and i am standing beside ...\n",
       "71     khalil gibran's the prophet is a truly awe ins...\n",
       "78     gibran's words strike as deep and sudden as li...\n",
       "104    i evidently misread the writeup  i thought it ...\n",
       "Name: Review_Text, dtype: object"
      ]
     },
     "execution_count": 28,
     "metadata": {},
     "output_type": "execute_result"
    }
   ],
   "source": [
    "#converting the book reviews to lower case \n",
    "df1.loc[:, 'Review_Text'] = df1['Review_Text'].str.lower()\n",
    "df1[\"Review_Text\"].head(10)"
   ]
  },
  {
   "cell_type": "code",
   "execution_count": 29,
   "metadata": {
    "collapsed": false
   },
   "outputs": [
    {
     "data": {
      "text/plain": [
       "9     this man was a son of a pastor  but worshipped...\n",
       "35    this is one of the first literary books i reca...\n",
       "40    certainly the words are of kahlil gibran  but ...\n",
       "42    this book was given to me as a gift before i j...\n",
       "Name: Review_Text, dtype: object"
      ]
     },
     "execution_count": 29,
     "metadata": {},
     "output_type": "execute_result"
    }
   ],
   "source": [
    "#removint the punctuation\n",
    "\n",
    "dictionary = dict.fromkeys(i for i in range(sys.maxunicode)\n",
    "                      if unicodedata.category(chr(i)).startswith('P'))\n",
    "def remove_punctuation(text):\n",
    "    return text.translate(dictionary)\n",
    "\n",
    "df1['Review_Text']=df1['Review_Text'].apply( lambda x: remove_punctuation(x))\n",
    "df1[\"Review_Text\"].head(4)"
   ]
  },
  {
   "cell_type": "code",
   "execution_count": 40,
   "metadata": {
    "collapsed": false
   },
   "outputs": [
    {
     "data": {
      "text/plain": [
       "(46907,)"
      ]
     },
     "execution_count": 40,
     "metadata": {},
     "output_type": "execute_result"
    }
   ],
   "source": [
    "df1['Ratings'].shape"
   ]
  },
  {
   "cell_type": "code",
   "execution_count": 9,
   "metadata": {
    "collapsed": false
   },
   "outputs": [
    {
     "data": {
      "text/html": [
       "<div>\n",
       "<table border=\"1\" class=\"dataframe\">\n",
       "  <thead>\n",
       "    <tr style=\"text-align: right;\">\n",
       "      <th></th>\n",
       "      <th>HelpfulNumerator</th>\n",
       "      <th>HelpfulDenomerator</th>\n",
       "      <th>Review_Text</th>\n",
       "      <th>Ratings</th>\n",
       "      <th>Helpfulness</th>\n",
       "    </tr>\n",
       "  </thead>\n",
       "  <tbody>\n",
       "    <tr>\n",
       "      <th>9</th>\n",
       "      <td>0</td>\n",
       "      <td>27</td>\n",
       "      <td>This man was a son of a pastor  but worshipped...</td>\n",
       "      <td>1.0</td>\n",
       "      <td>0</td>\n",
       "    </tr>\n",
       "    <tr>\n",
       "      <th>35</th>\n",
       "      <td>81</td>\n",
       "      <td>92</td>\n",
       "      <td>This is one of the first (literary) books I re...</td>\n",
       "      <td>5.0</td>\n",
       "      <td>1</td>\n",
       "    </tr>\n",
       "    <tr>\n",
       "      <th>42</th>\n",
       "      <td>19</td>\n",
       "      <td>25</td>\n",
       "      <td>This book was given to me as a gift before I j...</td>\n",
       "      <td>5.0</td>\n",
       "      <td>1</td>\n",
       "    </tr>\n",
       "  </tbody>\n",
       "</table>\n",
       "</div>"
      ],
      "text/plain": [
       "    HelpfulNumerator  HelpfulDenomerator  \\\n",
       "9                  0                  27   \n",
       "35                81                  92   \n",
       "42                19                  25   \n",
       "\n",
       "                                          Review_Text  Ratings  Helpfulness  \n",
       "9   This man was a son of a pastor  but worshipped...      1.0            0  \n",
       "35  This is one of the first (literary) books I re...      5.0            1  \n",
       "42  This book was given to me as a gift before I j...      5.0            1  "
      ]
     },
     "execution_count": 9,
     "metadata": {},
     "output_type": "execute_result"
    }
   ],
   "source": [
    "#transform Helpfulness into a binary variable with 0.50 ratio\n",
    "df1.loc[:, 'Helpfulness'] = np.where(df1.loc[:, 'HelpfulNumerator'] / df1.loc[:, 'HelpfulDenomerator'] > 0.50, 1, 0)\n",
    "df1.head(3)"
   ]
  },
  {
   "cell_type": "code",
   "execution_count": 10,
   "metadata": {
    "collapsed": false
   },
   "outputs": [
    {
     "data": {
      "text/html": [
       "<div>\n",
       "<table border=\"1\" class=\"dataframe\">\n",
       "  <thead>\n",
       "    <tr style=\"text-align: right;\">\n",
       "      <th></th>\n",
       "      <th>HelpfulNumerator</th>\n",
       "      <th>HelpfulDenomerator</th>\n",
       "      <th>Review_Text</th>\n",
       "      <th>Ratings</th>\n",
       "    </tr>\n",
       "    <tr>\n",
       "      <th>Helpfulness</th>\n",
       "      <th></th>\n",
       "      <th></th>\n",
       "      <th></th>\n",
       "      <th></th>\n",
       "    </tr>\n",
       "  </thead>\n",
       "  <tbody>\n",
       "    <tr>\n",
       "      <th>0</th>\n",
       "      <td>10926</td>\n",
       "      <td>10926</td>\n",
       "      <td>10926</td>\n",
       "      <td>10926</td>\n",
       "    </tr>\n",
       "    <tr>\n",
       "      <th>1</th>\n",
       "      <td>35981</td>\n",
       "      <td>35981</td>\n",
       "      <td>35981</td>\n",
       "      <td>35981</td>\n",
       "    </tr>\n",
       "  </tbody>\n",
       "</table>\n",
       "</div>"
      ],
      "text/plain": [
       "             HelpfulNumerator  HelpfulDenomerator  Review_Text  Ratings\n",
       "Helpfulness                                                            \n",
       "0                       10926               10926        10926    10926\n",
       "1                       35981               35981        35981    35981"
      ]
     },
     "execution_count": 10,
     "metadata": {},
     "output_type": "execute_result"
    }
   ],
   "source": [
    "df1.groupby('Helpfulness').count()"
   ]
  },
  {
   "cell_type": "code",
   "execution_count": 11,
   "metadata": {
    "collapsed": false
   },
   "outputs": [
    {
     "data": {
      "text/html": [
       "<div>\n",
       "<table border=\"1\" class=\"dataframe\">\n",
       "  <thead>\n",
       "    <tr style=\"text-align: right;\">\n",
       "      <th></th>\n",
       "      <th>HelpfulNumerator</th>\n",
       "      <th>HelpfulDenomerator</th>\n",
       "      <th>Ratings</th>\n",
       "      <th>Helpfulness</th>\n",
       "    </tr>\n",
       "  </thead>\n",
       "  <tbody>\n",
       "    <tr>\n",
       "      <th>HelpfulNumerator</th>\n",
       "      <td>1.000000</td>\n",
       "      <td>0.968204</td>\n",
       "      <td>0.085496</td>\n",
       "      <td>0.155268</td>\n",
       "    </tr>\n",
       "    <tr>\n",
       "      <th>HelpfulDenomerator</th>\n",
       "      <td>0.968204</td>\n",
       "      <td>1.000000</td>\n",
       "      <td>-0.009486</td>\n",
       "      <td>0.031488</td>\n",
       "    </tr>\n",
       "    <tr>\n",
       "      <th>Ratings</th>\n",
       "      <td>0.085496</td>\n",
       "      <td>-0.009486</td>\n",
       "      <td>1.000000</td>\n",
       "      <td>0.449498</td>\n",
       "    </tr>\n",
       "    <tr>\n",
       "      <th>Helpfulness</th>\n",
       "      <td>0.155268</td>\n",
       "      <td>0.031488</td>\n",
       "      <td>0.449498</td>\n",
       "      <td>1.000000</td>\n",
       "    </tr>\n",
       "  </tbody>\n",
       "</table>\n",
       "</div>"
      ],
      "text/plain": [
       "                    HelpfulNumerator  HelpfulDenomerator   Ratings  \\\n",
       "HelpfulNumerator            1.000000            0.968204  0.085496   \n",
       "HelpfulDenomerator          0.968204            1.000000 -0.009486   \n",
       "Ratings                     0.085496           -0.009486  1.000000   \n",
       "Helpfulness                 0.155268            0.031488  0.449498   \n",
       "\n",
       "                    Helpfulness  \n",
       "HelpfulNumerator       0.155268  \n",
       "HelpfulDenomerator     0.031488  \n",
       "Ratings                0.449498  \n",
       "Helpfulness            1.000000  "
      ]
     },
     "execution_count": 11,
     "metadata": {},
     "output_type": "execute_result"
    }
   ],
   "source": [
    "df1.corr()"
   ]
  },
  {
   "cell_type": "code",
   "execution_count": 12,
   "metadata": {
    "collapsed": false
   },
   "outputs": [],
   "source": [
    "#make a copy\n",
    "df2 = df1.copy(deep = True)"
   ]
  },
  {
   "cell_type": "code",
   "execution_count": 13,
   "metadata": {
    "collapsed": false
   },
   "outputs": [
    {
     "data": {
      "text/html": [
       "<div>\n",
       "<table border=\"1\" class=\"dataframe\">\n",
       "  <thead>\n",
       "    <tr style=\"text-align: right;\">\n",
       "      <th></th>\n",
       "      <th>HelpfulNumerator</th>\n",
       "      <th>HelpfulDenomerator</th>\n",
       "      <th>Review_Text</th>\n",
       "      <th>Ratings</th>\n",
       "      <th>Helpfulness</th>\n",
       "    </tr>\n",
       "  </thead>\n",
       "  <tbody>\n",
       "    <tr>\n",
       "      <th>9</th>\n",
       "      <td>0</td>\n",
       "      <td>27</td>\n",
       "      <td>This man was a son of a pastor  but worshipped...</td>\n",
       "      <td>1.0</td>\n",
       "      <td>0</td>\n",
       "    </tr>\n",
       "    <tr>\n",
       "      <th>35</th>\n",
       "      <td>81</td>\n",
       "      <td>92</td>\n",
       "      <td>This is one of the first (literary) books I re...</td>\n",
       "      <td>5.0</td>\n",
       "      <td>1</td>\n",
       "    </tr>\n",
       "    <tr>\n",
       "      <th>42</th>\n",
       "      <td>19</td>\n",
       "      <td>25</td>\n",
       "      <td>This book was given to me as a gift before I j...</td>\n",
       "      <td>5.0</td>\n",
       "      <td>1</td>\n",
       "    </tr>\n",
       "    <tr>\n",
       "      <th>49</th>\n",
       "      <td>97</td>\n",
       "      <td>103</td>\n",
       "      <td>Gibran gets right down to the bedrock of what ...</td>\n",
       "      <td>5.0</td>\n",
       "      <td>1</td>\n",
       "    </tr>\n",
       "    <tr>\n",
       "      <th>59</th>\n",
       "      <td>11</td>\n",
       "      <td>40</td>\n",
       "      <td>The Prophet is Almustafa  called \"\"the chosen ...</td>\n",
       "      <td>1.0</td>\n",
       "      <td>0</td>\n",
       "    </tr>\n",
       "  </tbody>\n",
       "</table>\n",
       "</div>"
      ],
      "text/plain": [
       "    HelpfulNumerator  HelpfulDenomerator  \\\n",
       "9                  0                  27   \n",
       "35                81                  92   \n",
       "42                19                  25   \n",
       "49                97                 103   \n",
       "59                11                  40   \n",
       "\n",
       "                                          Review_Text  Ratings  Helpfulness  \n",
       "9   This man was a son of a pastor  but worshipped...      1.0            0  \n",
       "35  This is one of the first (literary) books I re...      5.0            1  \n",
       "42  This book was given to me as a gift before I j...      5.0            1  \n",
       "49  Gibran gets right down to the bedrock of what ...      5.0            1  \n",
       "59  The Prophet is Almustafa  called \"\"the chosen ...      1.0            0  "
      ]
     },
     "execution_count": 13,
     "metadata": {},
     "output_type": "execute_result"
    }
   ],
   "source": [
    "df2.head()"
   ]
  },
  {
   "cell_type": "code",
   "execution_count": 14,
   "metadata": {
    "collapsed": false
   },
   "outputs": [
    {
     "data": {
      "text/plain": [
       "TfidfVectorizer(analyzer='word', binary=False, decode_error='strict',\n",
       "        dtype=<class 'numpy.int64'>, encoding='utf-8', input='content',\n",
       "        lowercase=True, max_df=0.9, max_features=None, min_df=0.1,\n",
       "        ngram_range=(1, 4), norm='l2', preprocessor=None, smooth_idf=True,\n",
       "        stop_words='english', strip_accents=None, sublinear_tf=False,\n",
       "        token_pattern='(?u)\\\\b\\\\w\\\\w+\\\\b', tokenizer=None, use_idf=True,\n",
       "        vocabulary=None)"
      ]
     },
     "execution_count": 14,
     "metadata": {},
     "output_type": "execute_result"
    }
   ],
   "source": [
    "#tokenize text with Tfidf\n",
    "from sklearn.feature_extraction.text import TfidfVectorizer\n",
    "\n",
    "vectorizer = TfidfVectorizer(min_df = 0.1, max_df=0.9,\n",
    "                             ngram_range=(1, 4), \n",
    "                             stop_words='english')\n",
    "vectorizer.fit(df2['Review_Text'])"
   ]
  },
  {
   "cell_type": "code",
   "execution_count": 15,
   "metadata": {
    "collapsed": false
   },
   "outputs": [],
   "source": [
    "trainingdata = vectorizer.transform(df2['Review_Text'])\n",
    "vocabulary = vectorizer.get_feature_names()"
   ]
  },
  {
   "cell_type": "code",
   "execution_count": null,
   "metadata": {
    "collapsed": false
   },
   "outputs": [],
   "source": [
    "#find best logistic regression parameters\n",
    "from sklearn import grid_search, cross_validation\n",
    "from sklearn.linear_model import LogisticRegression\n",
    "feature_set = trainingdata\n",
    "gs = grid_search.GridSearchCV(\n",
    "    estimator=LogisticRegression(),\n",
    "    param_grid={'C': [10**-i for i in range(-5, 5)], 'class_weight': [None, 'balanced']},\n",
    "    cv=cross_validation.StratifiedKFold(df1.Helpfulness,n_folds=10),\n",
    "    scoring='roc_auc'\n",
    ")\n",
    "\n",
    "\n",
    "gs.fit(trainingdata, df2.Helpfulness)\n",
    "gs.grid_scores_"
   ]
  },
  {
   "cell_type": "code",
   "execution_count": 20,
   "metadata": {
    "collapsed": false
   },
   "outputs": [
    {
     "data": {
      "text/plain": [
       "[<matplotlib.lines.Line2D at 0x7f9a54017198>]"
      ]
     },
     "execution_count": 20,
     "metadata": {},
     "output_type": "execute_result"
    },
    {
     "data": {
      "image/png": "[encoded data removed]",
      "text/plain": [
       "<matplotlib.figure.Figure at 0x7f9a6b07cdd8>"
      ]
     },
     "metadata": {},
     "output_type": "display_data"
    }
   ],
   "source": [
    "#plot ROC/AUC curve\n",
    "from sklearn.metrics import roc_auc_score, roc_curve\n",
    "actuals = gs.predict(feature_set) \n",
    "probas = gs.predict_proba(feature_set)\n",
    "plt.plot(roc_curve(df2[['Helpfulness']], probas[:,1])[0], roc_curve(df2[['Helpfulness']], probas[:,1])[1])"
   ]
  },
  {
   "cell_type": "code",
   "execution_count": 21,
   "metadata": {
    "collapsed": false
   },
   "outputs": [
    {
     "data": {
      "text/plain": [
       "0.75004537957503881"
      ]
     },
     "execution_count": 21,
     "metadata": {},
     "output_type": "execute_result"
    }
   ],
   "source": [
    "# ROC/AUC score\n",
    "#Accuracy of bag of Words Model is 75 Percent\n",
    "y_score = probas\n",
    "test2 = np.array(list(df2.Helpfulness))\n",
    "y_true = test2\n",
    "roc_auc_score(y_true, y_score[:,1].T)"
   ]
  },
  {
   "cell_type": "code",
   "execution_count": 25,
   "metadata": {
    "collapsed": false
   },
   "outputs": [
    {
     "data": {
      "text/plain": [
       "TfidfVectorizer(analyzer='word', binary=False, decode_error='strict',\n",
       "        dtype=<class 'numpy.int64'>, encoding='utf-8', input='content',\n",
       "        lowercase=True, max_df=0.95, max_features=None, min_df=0.05,\n",
       "        ngram_range=(1, 2), norm='l2', preprocessor=None, smooth_idf=True,\n",
       "        stop_words='english', strip_accents=None, sublinear_tf=False,\n",
       "        token_pattern='(?u)\\\\b\\\\w\\\\w+\\\\b', tokenizer=None, use_idf=True,\n",
       "        vocabulary=None)"
      ]
     },
     "execution_count": 25,
     "metadata": {},
     "output_type": "execute_result"
    }
   ],
   "source": [
    "#Used tfidf to Analyze text..\n",
    "model = KMeans(n_clusters=5, init='k-means++', max_iter=50, n_init=1,random_state=3)\n",
    "\n",
    "vectorizer = TfidfVectorizer(min_df = 0.05, max_df=0.95,\n",
    "                             ngram_range=(1, 2), \n",
    "                             stop_words='english')\n",
    "vectorizer.fit(df1['Review_Text'])"
   ]
  },
  {
   "cell_type": "code",
   "execution_count": 26,
   "metadata": {
    "collapsed": true
   },
   "outputs": [],
   "source": [
    "training = vectorizer.transform(df1['Review_Text'])\n",
    "vocabulary = vectorizer.get_feature_names()\n",
    "sse_err = []"
   ]
  },
  {
   "cell_type": "code",
   "execution_count": 35,
   "metadata": {
    "collapsed": false
   },
   "outputs": [],
   "source": [
    "res = model.fit(training)\n",
    "vocabulary = np.array(vocabulary)\n",
    "cluster_centers = np.array(res.cluster_centers_)\n",
    "sorted_vals = [res.cluster_centers_[i].argsort() for i in range(0,np.shape(res.cluster_centers_)[0])]\n",
    "topwords=set()\n",
    "for i in range(len(res.cluster_centers_)):\n",
    "    topwords = topwords.union(set(vocabulary[sorted_vals[i][-15:]]))\n",
    "topwords=list(topwords)"
   ]
  },
  {
   "cell_type": "code",
   "execution_count": 36,
   "metadata": {
    "collapsed": false
   },
   "outputs": [
    {
     "data": {
      "text/plain": [
       "['quot',\n",
       " 'new',\n",
       " 'characters',\n",
       " 'reading',\n",
       " 'like',\n",
       " 'good',\n",
       " 'books',\n",
       " 'character',\n",
       " 'love',\n",
       " 'life',\n",
       " 'history',\n",
       " 'time',\n",
       " 'work',\n",
       " 'really',\n",
       " 'don',\n",
       " 'american',\n",
       " 'read',\n",
       " 'story',\n",
       " 'just',\n",
       " 'plot',\n",
       " 'novel',\n",
       " 'world',\n",
       " 'war',\n",
       " 'book',\n",
       " 'read book',\n",
       " 'people',\n",
       " 'author',\n",
       " 've']"
      ]
     },
     "execution_count": 36,
     "metadata": {},
     "output_type": "execute_result"
    }
   ],
   "source": [
    "#Displaying the top 15 words per clusters\n",
    "words"
   ]
  },
  {
   "cell_type": "code",
   "execution_count": 38,
   "metadata": {
    "collapsed": false
   },
   "outputs": [],
   "source": [
    "train_set=training[:,[np.argwhere(vocabulary==i)[0][0] for i in words]]"
   ]
  },
  {
   "cell_type": "code",
   "execution_count": 39,
   "metadata": {
    "collapsed": false
   },
   "outputs": [
    {
     "data": {
      "text/html": [
       "<div>\n",
       "<table border=\"1\" class=\"dataframe\">\n",
       "  <thead>\n",
       "    <tr style=\"text-align: right;\">\n",
       "      <th></th>\n",
       "      <th>HelpfulNumerator</th>\n",
       "      <th>HelpfulDenomerator</th>\n",
       "      <th>Review_Text</th>\n",
       "      <th>Ratings</th>\n",
       "      <th>Helpfulness</th>\n",
       "    </tr>\n",
       "    <tr>\n",
       "      <th>cluster</th>\n",
       "      <th></th>\n",
       "      <th></th>\n",
       "      <th></th>\n",
       "      <th></th>\n",
       "      <th></th>\n",
       "    </tr>\n",
       "  </thead>\n",
       "  <tbody>\n",
       "    <tr>\n",
       "      <th>0</th>\n",
       "      <td>15183</td>\n",
       "      <td>15183</td>\n",
       "      <td>15183</td>\n",
       "      <td>15183</td>\n",
       "      <td>15183</td>\n",
       "    </tr>\n",
       "    <tr>\n",
       "      <th>1</th>\n",
       "      <td>6671</td>\n",
       "      <td>6671</td>\n",
       "      <td>6671</td>\n",
       "      <td>6671</td>\n",
       "      <td>6671</td>\n",
       "    </tr>\n",
       "    <tr>\n",
       "      <th>2</th>\n",
       "      <td>8921</td>\n",
       "      <td>8921</td>\n",
       "      <td>8921</td>\n",
       "      <td>8921</td>\n",
       "      <td>8921</td>\n",
       "    </tr>\n",
       "    <tr>\n",
       "      <th>3</th>\n",
       "      <td>3233</td>\n",
       "      <td>3233</td>\n",
       "      <td>3233</td>\n",
       "      <td>3233</td>\n",
       "      <td>3233</td>\n",
       "    </tr>\n",
       "    <tr>\n",
       "      <th>4</th>\n",
       "      <td>12899</td>\n",
       "      <td>12899</td>\n",
       "      <td>12899</td>\n",
       "      <td>12899</td>\n",
       "      <td>12899</td>\n",
       "    </tr>\n",
       "  </tbody>\n",
       "</table>\n",
       "</div>"
      ],
      "text/plain": [
       "         HelpfulNumerator  HelpfulDenomerator  Review_Text  Ratings  \\\n",
       "cluster                                                               \n",
       "0                   15183               15183        15183    15183   \n",
       "1                    6671                6671         6671     6671   \n",
       "2                    8921                8921         8921     8921   \n",
       "3                    3233                3233         3233     3233   \n",
       "4                   12899               12899        12899    12899   \n",
       "\n",
       "         Helpfulness  \n",
       "cluster               \n",
       "0              15183  \n",
       "1               6671  \n",
       "2               8921  \n",
       "3               3233  \n",
       "4              12899  "
      ]
     },
     "execution_count": 39,
     "metadata": {},
     "output_type": "execute_result"
    }
   ],
   "source": [
    "#Cluster wise count\n",
    "df1['cluster'] = model.labels_\n",
    "df1.groupby('cluster').count()"
   ]
  },
  {
   "cell_type": "code",
   "execution_count": 50,
   "metadata": {
    "collapsed": false
   },
   "outputs": [
    {
     "data": {
      "text/html": [
       "<div>\n",
       "<table border=\"1\" class=\"dataframe\">\n",
       "  <thead>\n",
       "    <tr style=\"text-align: right;\">\n",
       "      <th></th>\n",
       "      <th>HelpfulNumerator</th>\n",
       "      <th>HelpfulDenomerator</th>\n",
       "      <th>Ratings</th>\n",
       "      <th>Helpful</th>\n",
       "    </tr>\n",
       "    <tr>\n",
       "      <th>cluster</th>\n",
       "      <th></th>\n",
       "      <th></th>\n",
       "      <th></th>\n",
       "      <th></th>\n",
       "    </tr>\n",
       "  </thead>\n",
       "  <tbody>\n",
       "    <tr>\n",
       "      <th>0</th>\n",
       "      <td>28.356535</td>\n",
       "      <td>35.838650</td>\n",
       "      <td>3.339501</td>\n",
       "      <td>0.826959</td>\n",
       "    </tr>\n",
       "    <tr>\n",
       "      <th>1</th>\n",
       "      <td>32.078520</td>\n",
       "      <td>39.280505</td>\n",
       "      <td>3.560830</td>\n",
       "      <td>0.861191</td>\n",
       "    </tr>\n",
       "    <tr>\n",
       "      <th>2</th>\n",
       "      <td>29.187693</td>\n",
       "      <td>41.786739</td>\n",
       "      <td>3.659148</td>\n",
       "      <td>0.752707</td>\n",
       "    </tr>\n",
       "    <tr>\n",
       "      <th>3</th>\n",
       "      <td>26.451670</td>\n",
       "      <td>37.287162</td>\n",
       "      <td>3.317517</td>\n",
       "      <td>0.734999</td>\n",
       "    </tr>\n",
       "  </tbody>\n",
       "</table>\n",
       "</div>"
      ],
      "text/plain": [
       "         HelpfulNumerator  HelpfulDenomerator   Ratings   Helpful\n",
       "cluster                                                          \n",
       "0               28.356535           35.838650  3.339501  0.826959\n",
       "1               32.078520           39.280505  3.560830  0.861191\n",
       "2               29.187693           41.786739  3.659148  0.752707\n",
       "3               26.451670           37.287162  3.317517  0.734999"
      ]
     },
     "execution_count": 50,
     "metadata": {},
     "output_type": "execute_result"
    }
   ],
   "source": [
    "# what does each cluster look like\n",
    "df1.groupby('cluster').mean()"
   ]
  },
  {
   "cell_type": "code",
   "execution_count": 51,
   "metadata": {
    "collapsed": false
   },
   "outputs": [
    {
     "data": {
      "text/html": [
       "<div>\n",
       "<table border=\"1\" class=\"dataframe\">\n",
       "  <thead>\n",
       "    <tr style=\"text-align: right;\">\n",
       "      <th></th>\n",
       "      <th>HelpfulNumerator</th>\n",
       "      <th>HelpfulDenomerator</th>\n",
       "      <th>Ratings</th>\n",
       "      <th>Helpful</th>\n",
       "      <th>cluster</th>\n",
       "    </tr>\n",
       "  </thead>\n",
       "  <tbody>\n",
       "    <tr>\n",
       "      <th>HelpfulNumerator</th>\n",
       "      <td>1.000000</td>\n",
       "      <td>0.968612</td>\n",
       "      <td>0.065197</td>\n",
       "      <td>0.136253</td>\n",
       "      <td>-0.011519</td>\n",
       "    </tr>\n",
       "    <tr>\n",
       "      <th>HelpfulDenomerator</th>\n",
       "      <td>0.968612</td>\n",
       "      <td>1.000000</td>\n",
       "      <td>-0.021008</td>\n",
       "      <td>0.023769</td>\n",
       "      <td>0.006480</td>\n",
       "    </tr>\n",
       "    <tr>\n",
       "      <th>Ratings</th>\n",
       "      <td>0.065197</td>\n",
       "      <td>-0.021008</td>\n",
       "      <td>1.000000</td>\n",
       "      <td>0.405803</td>\n",
       "      <td>-0.004484</td>\n",
       "    </tr>\n",
       "    <tr>\n",
       "      <th>Helpful</th>\n",
       "      <td>0.136253</td>\n",
       "      <td>0.023769</td>\n",
       "      <td>0.405803</td>\n",
       "      <td>1.000000</td>\n",
       "      <td>-0.089340</td>\n",
       "    </tr>\n",
       "    <tr>\n",
       "      <th>cluster</th>\n",
       "      <td>-0.011519</td>\n",
       "      <td>0.006480</td>\n",
       "      <td>-0.004484</td>\n",
       "      <td>-0.089340</td>\n",
       "      <td>1.000000</td>\n",
       "    </tr>\n",
       "  </tbody>\n",
       "</table>\n",
       "</div>"
      ],
      "text/plain": [
       "                    HelpfulNumerator  HelpfulDenomerator   Ratings   Helpful  \\\n",
       "HelpfulNumerator            1.000000            0.968612  0.065197  0.136253   \n",
       "HelpfulDenomerator          0.968612            1.000000 -0.021008  0.023769   \n",
       "Ratings                     0.065197           -0.021008  1.000000  0.405803   \n",
       "Helpful                     0.136253            0.023769  0.405803  1.000000   \n",
       "cluster                    -0.011519            0.006480 -0.004484 -0.089340   \n",
       "\n",
       "                     cluster  \n",
       "HelpfulNumerator   -0.011519  \n",
       "HelpfulDenomerator  0.006480  \n",
       "Ratings            -0.004484  \n",
       "Helpful            -0.089340  \n",
       "cluster             1.000000  "
      ]
     },
     "execution_count": 51,
     "metadata": {},
     "output_type": "execute_result"
    }
   ],
   "source": [
    "#final \n",
    "df1.corr()"
   ]
  },
  {
   "cell_type": "code",
   "execution_count": 42,
   "metadata": {
    "collapsed": false
   },
   "outputs": [],
   "source": [
    "#add Score column to top words\n",
    "import scipy as scipy\n",
    "\n",
    "topscore = np.array(list(df1.Ratings))\n",
    "topscore = topscore.reshape(46907, 1)\n",
    "features = scipy.sparse.hstack((train_set,scipy.sparse.csr_matrix(topscore)))\n",
    "features = scipy.sparse.csr_matrix(features)"
   ]
  },
  {
   "cell_type": "code",
   "execution_count": 44,
   "metadata": {
    "collapsed": false
   },
   "outputs": [
    {
     "data": {
      "text/plain": [
       "[mean: 0.81494, std: 0.03912, params: {'C': 100000, 'class_weight': None},\n",
       " mean: 0.81481, std: 0.03897, params: {'C': 100000, 'class_weight': 'balanced'},\n",
       " mean: 0.81494, std: 0.03912, params: {'C': 10000, 'class_weight': None},\n",
       " mean: 0.81481, std: 0.03897, params: {'C': 10000, 'class_weight': 'balanced'},\n",
       " mean: 0.81494, std: 0.03912, params: {'C': 1000, 'class_weight': None},\n",
       " mean: 0.81481, std: 0.03897, params: {'C': 1000, 'class_weight': 'balanced'},\n",
       " mean: 0.81494, std: 0.03913, params: {'C': 100, 'class_weight': None},\n",
       " mean: 0.81481, std: 0.03897, params: {'C': 100, 'class_weight': 'balanced'},\n",
       " mean: 0.81495, std: 0.03915, params: {'C': 10, 'class_weight': None},\n",
       " mean: 0.81481, std: 0.03898, params: {'C': 10, 'class_weight': 'balanced'},\n",
       " mean: 0.81495, std: 0.03937, params: {'C': 1, 'class_weight': None},\n",
       " mean: 0.81482, std: 0.03915, params: {'C': 1, 'class_weight': 'balanced'},\n",
       " mean: 0.81412, std: 0.04079, params: {'C': 0.1, 'class_weight': None},\n",
       " mean: 0.81441, std: 0.04030, params: {'C': 0.1, 'class_weight': 'balanced'},\n",
       " mean: 0.80805, std: 0.04179, params: {'C': 0.01, 'class_weight': None},\n",
       " mean: 0.80876, std: 0.04172, params: {'C': 0.01, 'class_weight': 'balanced'},\n",
       " mean: 0.80537, std: 0.04192, params: {'C': 0.001, 'class_weight': None},\n",
       " mean: 0.79528, std: 0.04341, params: {'C': 0.001, 'class_weight': 'balanced'},\n",
       " mean: 0.80660, std: 0.04207, params: {'C': 0.0001, 'class_weight': None},\n",
       " mean: 0.78088, std: 0.04518, params: {'C': 0.0001, 'class_weight': 'balanced'}]"
      ]
     },
     "execution_count": 44,
     "metadata": {},
     "output_type": "execute_result"
    }
   ],
   "source": [
    "#Logistic Regression and get GridSearchCV \n",
    "from sklearn import grid_search, cross_validation\n",
    "from sklearn.linear_model import LogisticRegression\n",
    "feature_set = features\n",
    "gs = grid_search.GridSearchCV(\n",
    "    estimator=LogisticRegression(),\n",
    "    param_grid={'C': [10**-i for i in range(-5, 5)], 'class_weight': [None, 'balanced']},\n",
    "    cv=cross_validation.StratifiedKFold(df1.Helpfulness,n_folds=10),\n",
    "    scoring='roc_auc'\n",
    ")\n",
    "gs.fit(features, df1.Helpfulness)\n",
    "gs.grid_scores_"
   ]
  },
  {
   "cell_type": "code",
   "execution_count": 72,
   "metadata": {
    "collapsed": false
   },
   "outputs": [
    {
     "name": "stdout",
     "output_type": "stream",
     "text": [
      "LogisticRegression(C=100, class_weight=None, dual=False, fit_intercept=True,\n",
      "          intercept_scaling=1, max_iter=100, multi_class='ovr', n_jobs=1,\n",
      "          penalty='l2', random_state=None, solver='liblinear', tol=0.0001,\n",
      "          verbose=0, warm_start=False)\n"
     ]
    }
   ],
   "source": [
    "print(gs.best_estimator_)"
   ]
  },
  {
   "cell_type": "code",
   "execution_count": 45,
   "metadata": {
    "collapsed": true
   },
   "outputs": [],
   "source": [
    "predictor = gs.predict(feature_set)"
   ]
  },
  {
   "cell_type": "code",
   "execution_count": 46,
   "metadata": {
    "collapsed": false
   },
   "outputs": [
    {
     "name": "stdout",
     "output_type": "stream",
     "text": [
      "[[ 1.16276075  1.55454412  1.56919609  0.29325035  0.75846148  0.09773343\n",
      "   0.92842677  1.91345221  0.7422566   2.33070986  0.56390817  1.12046807\n",
      "   2.04748783  1.13503282  0.09965841 -0.33220443 -0.6556466   1.75733109\n",
      "   0.765075    1.72990172  1.87066109  0.40865494  0.24795276  1.82285502\n",
      "  -1.45170623  0.16887427  1.42407169  1.29904174  0.73301318]]\n",
      "[-1.93992141]\n"
     ]
    }
   ],
   "source": [
    "#Calculating the coefficients P-value \n",
    "print(gs.best_estimator_.coef_)\n",
    "print(gs.best_estimator_.intercept_)"
   ]
  },
  {
   "cell_type": "code",
   "execution_count": 47,
   "metadata": {
    "collapsed": false
   },
   "outputs": [
    {
     "data": {
      "text/plain": [
       "[<matplotlib.lines.Line2D at 0x7f99fe923c88>]"
      ]
     },
     "execution_count": 47,
     "metadata": {},
     "output_type": "execute_result"
    },
    {
     "data": {
      "image/png": "[encoded data removed]",
      "text/plain": [
       "<matplotlib.figure.Figure at 0x7f9a5a40c668>"
      ]
     },
     "metadata": {},
     "output_type": "display_data"
    }
   ],
   "source": [
    "#roc curve\n",
    "from sklearn.metrics import roc_auc_score, roc_curve\n",
    "actuals = gs.predict(feature_set) \n",
    "probas = gs.predict_proba(feature_set)\n",
    "plt.plot(roc_curve(df1[['Helpfulness']], probas[:,1])[0], roc_curve(df1[['Helpfulness']], probas[:,1])[1])"
   ]
  },
  {
   "cell_type": "code",
   "execution_count": 50,
   "metadata": {
    "collapsed": false
   },
   "outputs": [
    {
     "data": {
      "text/plain": [
       "0.81728574200257609"
      ]
     },
     "execution_count": 50,
     "metadata": {},
     "output_type": "execute_result"
    }
   ],
   "source": [
    "\n",
    "#roc auc score\n",
    "y_score = probas\n",
    "test2 = np.array(list(df1.Helpfulness))\n",
    "test2 = test2.reshape(46907,1)\n",
    "y_true = test2\n",
    "\n",
    "roc_auc_score(y_true, y_score[:,1].T)"
   ]
  },
  {
   "cell_type": "code",
   "execution_count": 53,
   "metadata": {
    "collapsed": false
   },
   "outputs": [
    {
     "name": "stdout",
     "output_type": "stream",
     "text": [
      "[[ 4898  6028]\n",
      " [ 2808 33173]]\n"
     ]
    },
    {
     "data": {
      "image/png": "[encoded data removed]",
      "text/plain": [
       "<matplotlib.figure.Figure at 0x7f9a78474780>"
      ]
     },
     "metadata": {},
     "output_type": "display_data"
    },
    {
     "data": {
      "text/plain": [
       "<matplotlib.figure.Figure at 0x7f9a4a286470>"
      ]
     },
     "metadata": {},
     "output_type": "display_data"
    }
   ],
   "source": [
    "from sklearn.metrics import confusion_matrix\n",
    "def plot_confusion_matrix(cm, title='Confusion matrix', cmap=plt.cm.Blues):\n",
    "    plt.imshow(cm, interpolation='nearest', cmap=cmap)\n",
    "    plt.title(title)\n",
    "    plt.colorbar()\n",
    "    plt.tight_layout()\n",
    "    plt.ylabel('Actual Helpfulness')\n",
    "    plt.xlabel('Predicted Helpfulness')\n",
    "\n",
    "# Compute confusion matrix\n",
    "cm = confusion_matrix(y_true, predictor)\n",
    "np.set_printoptions(precision=2)\n",
    "print(cm)\n",
    "plt.figure()\n",
    "# plot_confusion_matrix(cm)\n",
    "cm_normalized = cm.astype('float') / cm.sum(axis=1)[:, np.newaxis]\n",
    "plot_confusion_matrix(cm_normalized, title='Confusion matrix')\n",
    "plt.figure()\n",
    "\n",
    "plt.show()"
   ]
  },
  {
   "cell_type": "code",
   "execution_count": 57,
   "metadata": {
    "collapsed": false
   },
   "outputs": [
    {
     "data": {
      "text/plain": [
       "[('years', -1.4517062337490938),\n",
       " ('read book', -0.65564660289473486),\n",
       " ('book', -0.33220442695913532),\n",
       " ('life', 0.097733434820765394),\n",
       " ('make', 0.099658412191117013),\n",
       " ('love', 0.1688742692035092),\n",
       " ('like', 0.24795276487231696),\n",
       " ('books', 0.29325034925531579),\n",
       " ('family', 0.40865494487118792),\n",
       " ('read', 0.56390817369734958),\n",
       " ('time', 0.73301317655666598),\n",
       " ('story', 0.74225660023473528),\n",
       " ('character', 0.75846148131849778),\n",
       " ('author', 0.76507499906274401),\n",
       " ('history', 0.92842676539356794),\n",
       " ('plot', 1.1204680692599365),\n",
       " ('novel', 1.1350328179437257),\n",
       " ('quot', 1.1627607462714684),\n",
       " ('great', 1.299041736152452),\n",
       " ('know', 1.4240716916070468),\n",
       " ('new', 1.5545441216921103),\n",
       " ('reading', 1.5691960894924462),\n",
       " ('characters', 1.7299017179279561),\n",
       " ('does', 1.7573310939537168),\n",
       " ('good', 1.8228550220322288),\n",
       " ('ve', 1.8706610916276731),\n",
       " ('really', 1.9134522122828601),\n",
       " ('just', 2.0474878313886276),\n",
       " ('don', 2.3307098581062005)]"
      ]
     },
     "execution_count": 57,
     "metadata": {},
     "output_type": "execute_result"
    }
   ],
   "source": [
    "#Displayin the top parameters\n",
    "words.extend(['topscore'])\n",
    "sorted(zip(topwords,gs.best_estimator_.coef_[0]),key=lambda x:x[1])"
   ]
  }
 ],
 "metadata": {
  "kernelspec": {
   "display_name": "Python 3.5 (Experimental) with Spark 1.6",
   "language": "python",
   "name": "python3"
  },
  "language_info": {
   "codemirror_mode": {
    "name": "ipython",
    "version": 3
   },
   "file_extension": ".py",
   "mimetype": "text/x-python",
   "name": "python",
   "nbconvert_exporter": "python",
   "pygments_lexer": "ipython3",
   "version": "3.5.2"
  }
 },
 "nbformat": 4,
 "nbformat_minor": 2
}